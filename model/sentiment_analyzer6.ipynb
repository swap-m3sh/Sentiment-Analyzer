{
  "nbformat": 4,
  "nbformat_minor": 0,
  "metadata": {
    "colab": {
      "name": "sentiment_analyzer6.ipynb",
      "provenance": [],
      "collapsed_sections": [],
      "include_colab_link": true
    },
    "kernelspec": {
      "display_name": "Python 3",
      "name": "python3"
    },
    "language_info": {
      "name": "python"
    }
  },
  "cells": [
    {
      "cell_type": "markdown",
      "metadata": {
        "id": "view-in-github",
        "colab_type": "text"
      },
      "source": [
        "<a href=\"https://colab.research.google.com/github/swap-m3sh/Sentiment-Analyzer/blob/ML-Model/model/sentiment_analyzer6.ipynb\" target=\"_parent\"><img src=\"https://colab.research.google.com/assets/colab-badge.svg\" alt=\"Open In Colab\"/></a>"
      ]
    },
    {
      "cell_type": "code",
      "metadata": {
        "id": "t-0tjCVw0kHR"
      },
      "source": [
        "import numpy as np \n",
        "import pandas as pd "
      ],
      "execution_count": null,
      "outputs": []
    },
    {
      "cell_type": "code",
      "metadata": {
        "id": "aZeYckl1NV8B"
      },
      "source": [
        "from google.colab import drive\n",
        "drive.mount('/content/drive')"
      ],
      "execution_count": null,
      "outputs": []
    },
    {
      "cell_type": "code",
      "metadata": {
        "id": "zi2SNbalNhBU"
      },
      "source": [
        "!unzip /content/drive/Shareddrives/Hackathon/AMOC/mapp1.zip -d /content/\n",
        "!mv /content/'mapp1.csv' /content/dataset.csv"
      ],
      "execution_count": null,
      "outputs": []
    },
    {
      "cell_type": "code",
      "metadata": {
        "id": "zbrcLRfZCV3o"
      },
      "source": [
        "data=pd.read_csv(\"/content/dataset.csv\", encoding = \"UTF-8\", engine=\"python\",error_bad_lines=False)"
      ],
      "execution_count": null,
      "outputs": []
    },
    {
      "cell_type": "code",
      "metadata": {
        "id": "-8Ngb2TYBBuv"
      },
      "source": [
        "from sklearn.utils import shuffle\n",
        "data=shuffle(data)"
      ],
      "execution_count": null,
      "outputs": []
    },
    {
      "cell_type": "code",
      "metadata": {
        "id": "gkGxxwtgOAER"
      },
      "source": [
        "data.shape"
      ],
      "execution_count": null,
      "outputs": []
    },
    {
      "cell_type": "code",
      "metadata": {
        "id": "aGeEJjal1Dus"
      },
      "source": [
        "data.head(5)"
      ],
      "execution_count": null,
      "outputs": []
    },
    {
      "cell_type": "code",
      "metadata": {
        "id": "QGmLH1DU36z1"
      },
      "source": [
        "# # data.columns = [\"label\", \"time\", \"date\", \"query\", \"username\", \"text\"]\n",
        "# data"
      ],
      "execution_count": null,
      "outputs": []
    },
    {
      "cell_type": "code",
      "metadata": {
        "id": "nsNORFYyPUfL"
      },
      "source": [
        "# data.isnull().sum()"
      ],
      "execution_count": null,
      "outputs": []
    },
    {
      "cell_type": "code",
      "metadata": {
        "id": "4eobQb0XPgyq"
      },
      "source": [
        "# data=data[['label','text']]"
      ],
      "execution_count": null,
      "outputs": []
    },
    {
      "cell_type": "code",
      "metadata": {
        "id": "21aQz2RoQqTT",
        "colab": {
          "base_uri": "https://localhost:8080/"
        },
        "outputId": "9105a5d9-777a-4093-9952-d53aae10f6d1"
      },
      "source": [
        "data['text']=data['text'].str.lower()\n",
        "data['text']"
      ],
      "execution_count": null,
      "outputs": [
        {
          "output_type": "execute_result",
          "data": {
            "text/plain": [
              "105391    seriously, i thought most of these people had ...\n",
              "100158                           brasilllll pohaaaaa ❤👊👊👊👊👊\n",
              "97808     fabio einstein needs to bring danica mckellar ...\n",
              "30449                           @fadedmoon yea, i knew it! \n",
              "156889    do mileena from mortal combat and kitana and j...\n",
              "                                ...                        \n",
              "105121                                    tommy is the man.\n",
              "142737                                             del alma\n",
              "107878    im vegan and i left every non-plant based item...\n",
              "64505     :::::::::::::hmmmm, must be why i like reading...\n",
              "59609     ::yup - xp home edition and zonealarm pro 7.0....\n",
              "Name: text, Length: 160000, dtype: object"
            ]
          },
          "metadata": {
            "tags": []
          },
          "execution_count": 139
        }
      ]
    },
    {
      "cell_type": "code",
      "metadata": {
        "id": "YsLziWhqSaOY",
        "colab": {
          "base_uri": "https://localhost:8080/"
        },
        "outputId": "98e08a67-5373-4ee2-f0c5-aedad2807cb0"
      },
      "source": [
        "import nltk\n",
        "nltk.download('stopwords')"
      ],
      "execution_count": null,
      "outputs": [
        {
          "output_type": "stream",
          "text": [
            "[nltk_data] Downloading package stopwords to /root/nltk_data...\n",
            "[nltk_data]   Package stopwords is already up-to-date!\n"
          ],
          "name": "stdout"
        },
        {
          "output_type": "execute_result",
          "data": {
            "text/plain": [
              "True"
            ]
          },
          "metadata": {
            "tags": []
          },
          "execution_count": 140
        }
      ]
    },
    {
      "cell_type": "code",
      "metadata": {
        "id": "ejXDEKYiK_sA",
        "colab": {
          "base_uri": "https://localhost:8080/"
        },
        "outputId": "d5e323ee-582b-4e66-bd5f-fb317b84061f"
      },
      "source": [
        "data.label.value_counts()"
      ],
      "execution_count": null,
      "outputs": [
        {
          "output_type": "execute_result",
          "data": {
            "text/plain": [
              "1    120000\n",
              "0     40000\n",
              "Name: label, dtype: int64"
            ]
          },
          "metadata": {
            "tags": []
          },
          "execution_count": 141
        }
      ]
    },
    {
      "cell_type": "code",
      "metadata": {
        "id": "Y-X3n9JALxfK"
      },
      "source": [
        "from nltk.corpus import stopwords\n",
        "stopwords_list = stopwords.words('english')"
      ],
      "execution_count": null,
      "outputs": []
    },
    {
      "cell_type": "markdown",
      "metadata": {
        "id": "-CdyjA8SU21J"
      },
      "source": [
        "FIRST 5 STOPWORDS"
      ]
    },
    {
      "cell_type": "code",
      "metadata": {
        "id": "F0-a4nYQTXU3",
        "colab": {
          "base_uri": "https://localhost:8080/"
        },
        "outputId": "03c6110d-46e7-4265-a0bd-693b260b0c29"
      },
      "source": [
        "stopwords_list[0:5]"
      ],
      "execution_count": null,
      "outputs": [
        {
          "output_type": "execute_result",
          "data": {
            "text/plain": [
              "['i', 'me', 'my', 'myself', 'we']"
            ]
          },
          "metadata": {
            "tags": []
          },
          "execution_count": 143
        }
      ]
    },
    {
      "cell_type": "code",
      "metadata": {
        "colab": {
          "base_uri": "https://localhost:8080/"
        },
        "id": "A_j-9RHYBkIh",
        "outputId": "cce7885b-ad62-44eb-e117-73d27fc2dc0f"
      },
      "source": [
        "data.shape"
      ],
      "execution_count": null,
      "outputs": [
        {
          "output_type": "execute_result",
          "data": {
            "text/plain": [
              "(160000, 2)"
            ]
          },
          "metadata": {
            "tags": []
          },
          "execution_count": 147
        }
      ]
    },
    {
      "cell_type": "code",
      "metadata": {
        "id": "IBG8RiKLPhXM",
        "colab": {
          "base_uri": "https://localhost:8080/"
        },
        "outputId": "15756b52-76f3-4abb-fb35-1e3ccb56840f"
      },
      "source": [
        "STOPWORDS = set(stopwords.words('english'))\n",
        "def cleaning_stopwords(text):\n",
        "    return \" \".join([word for word in str(text).split() if word not in STOPWORDS])\n",
        "data['text'] = data['text'].apply(lambda text: cleaning_stopwords(text))\n",
        "data['text'].head()"
      ],
      "execution_count": null,
      "outputs": [
        {
          "output_type": "execute_result",
          "data": {
            "text/plain": [
              "105391              seriously, thought people died already.\n",
              "100158                           brasilllll pohaaaaa ❤👊👊👊👊👊\n",
              "97808     fabio einstein needs bring danica mckellar bac...\n",
              "30449                              @fadedmoon yea, knew it!\n",
              "156889        mileena mortal combat kitana jade one totural\n",
              "Name: text, dtype: object"
            ]
          },
          "metadata": {
            "tags": []
          },
          "execution_count": 148
        }
      ]
    },
    {
      "cell_type": "code",
      "metadata": {
        "colab": {
          "base_uri": "https://localhost:8080/",
          "height": 35
        },
        "id": "REcnCyroNkNO",
        "outputId": "f327d024-8976-4088-876d-80608aff0825"
      },
      "source": [
        "import string\n",
        "english_punctuations = string.punctuation\n",
        "punctuations_list = english_punctuations\n",
        "punctuations_list[0:]"
      ],
      "execution_count": null,
      "outputs": [
        {
          "output_type": "execute_result",
          "data": {
            "application/vnd.google.colaboratory.intrinsic+json": {
              "type": "string"
            },
            "text/plain": [
              "'!\"#$%&\\'()*+,-./:;<=>?@[\\\\]^_`{|}~'"
            ]
          },
          "metadata": {
            "tags": []
          },
          "execution_count": 149
        }
      ]
    },
    {
      "cell_type": "code",
      "metadata": {
        "id": "jKIIlpOfTPWl",
        "colab": {
          "base_uri": "https://localhost:8080/"
        },
        "outputId": "42096677-bd0f-45ee-d36b-e89b926514c8"
      },
      "source": [
        "def cleaning_punctuations(text):\n",
        "    translator = str.maketrans('', '', punctuations_list)\n",
        "    return text.translate(translator)\n",
        "data['text']= data['text'].apply(lambda x: cleaning_punctuations(x))\n",
        "data['text'].tail()"
      ],
      "execution_count": null,
      "outputs": [
        {
          "output_type": "execute_result",
          "data": {
            "text/plain": [
              "105121                                            tommy man\n",
              "142737                                             del alma\n",
              "107878    im vegan left every nonplant based item out ta...\n",
              "64505     hmmmm must like reading stuff although know sa...\n",
              "59609     yup  xp home edition zonealarm pro 70 types co...\n",
              "Name: text, dtype: object"
            ]
          },
          "metadata": {
            "tags": []
          },
          "execution_count": 150
        }
      ]
    },
    {
      "cell_type": "code",
      "metadata": {
        "id": "5T5LsadYSySl",
        "colab": {
          "base_uri": "https://localhost:8080/"
        },
        "outputId": "bd7d0905-96a2-4d87-9a48-e72ad0598048"
      },
      "source": [
        "import re\n",
        "def cleaning_URLs(data):\n",
        "    return re.sub('((www\\.[^\\s]+)|(https?://[^\\s]+))',' ',str(data))\n",
        "data['text'] = data['text'].apply(lambda x: cleaning_URLs(x))\n",
        "data['text'].tail()"
      ],
      "execution_count": null,
      "outputs": [
        {
          "output_type": "execute_result",
          "data": {
            "text/plain": [
              "105121                                            tommy man\n",
              "142737                                             del alma\n",
              "107878    im vegan left every nonplant based item out ta...\n",
              "64505     hmmmm must like reading stuff although know sa...\n",
              "59609     yup  xp home edition zonealarm pro 70 types co...\n",
              "Name: text, dtype: object"
            ]
          },
          "metadata": {
            "tags": []
          },
          "execution_count": 151
        }
      ]
    },
    {
      "cell_type": "code",
      "metadata": {
        "id": "bKnhjOXKXTWW",
        "colab": {
          "base_uri": "https://localhost:8080/"
        },
        "outputId": "00afaff4-5c0e-41c0-80ec-2e4b9fb09dc2"
      },
      "source": [
        "def cleaning_numbers(data):\n",
        "    return re.sub('[0-9]+', '', data)\n",
        "data['text'] = data['text'].apply(lambda x: cleaning_numbers(x))\n",
        "data['text'].tail()"
      ],
      "execution_count": null,
      "outputs": [
        {
          "output_type": "execute_result",
          "data": {
            "text/plain": [
              "105121                                            tommy man\n",
              "142737                                             del alma\n",
              "107878    im vegan left every nonplant based item out ta...\n",
              "64505     hmmmm must like reading stuff although know sa...\n",
              "59609     yup  xp home edition zonealarm pro  types cook...\n",
              "Name: text, dtype: object"
            ]
          },
          "metadata": {
            "tags": []
          },
          "execution_count": 152
        }
      ]
    },
    {
      "cell_type": "code",
      "metadata": {
        "id": "xf7exZqUXyNe"
      },
      "source": [
        "from nltk.tokenize import RegexpTokenizer"
      ],
      "execution_count": null,
      "outputs": []
    },
    {
      "cell_type": "code",
      "metadata": {
        "id": "CzZ4-mv1aqWx",
        "colab": {
          "base_uri": "https://localhost:8080/",
          "height": 194
        },
        "outputId": "8df86cb7-c0c5-4c03-d0d8-788392579bde"
      },
      "source": [
        "tokenizer = RegexpTokenizer(r'\\w+')\n",
        "data['text'] = data['text'].apply(tokenizer.tokenize)\n",
        "data.head()"
      ],
      "execution_count": null,
      "outputs": [
        {
          "output_type": "execute_result",
          "data": {
            "text/html": [
              "<div>\n",
              "<style scoped>\n",
              "    .dataframe tbody tr th:only-of-type {\n",
              "        vertical-align: middle;\n",
              "    }\n",
              "\n",
              "    .dataframe tbody tr th {\n",
              "        vertical-align: top;\n",
              "    }\n",
              "\n",
              "    .dataframe thead th {\n",
              "        text-align: right;\n",
              "    }\n",
              "</style>\n",
              "<table border=\"1\" class=\"dataframe\">\n",
              "  <thead>\n",
              "    <tr style=\"text-align: right;\">\n",
              "      <th></th>\n",
              "      <th>label</th>\n",
              "      <th>text</th>\n",
              "    </tr>\n",
              "  </thead>\n",
              "  <tbody>\n",
              "    <tr>\n",
              "      <th>105391</th>\n",
              "      <td>1</td>\n",
              "      <td>[seriously, thought, people, died, already]</td>\n",
              "    </tr>\n",
              "    <tr>\n",
              "      <th>100158</th>\n",
              "      <td>1</td>\n",
              "      <td>[brasilllll, pohaaaaa]</td>\n",
              "    </tr>\n",
              "    <tr>\n",
              "      <th>97808</th>\n",
              "      <td>1</td>\n",
              "      <td>[fabio, einstein, needs, bring, danica, mckell...</td>\n",
              "    </tr>\n",
              "    <tr>\n",
              "      <th>30449</th>\n",
              "      <td>1</td>\n",
              "      <td>[fadedmoon, yea, knew, it]</td>\n",
              "    </tr>\n",
              "    <tr>\n",
              "      <th>156889</th>\n",
              "      <td>1</td>\n",
              "      <td>[mileena, mortal, combat, kitana, jade, one, t...</td>\n",
              "    </tr>\n",
              "  </tbody>\n",
              "</table>\n",
              "</div>"
            ],
            "text/plain": [
              "        label                                               text\n",
              "105391      1        [seriously, thought, people, died, already]\n",
              "100158      1                             [brasilllll, pohaaaaa]\n",
              "97808       1  [fabio, einstein, needs, bring, danica, mckell...\n",
              "30449       1                         [fadedmoon, yea, knew, it]\n",
              "156889      1  [mileena, mortal, combat, kitana, jade, one, t..."
            ]
          },
          "metadata": {
            "tags": []
          },
          "execution_count": 154
        }
      ]
    },
    {
      "cell_type": "code",
      "metadata": {
        "id": "CKs_4v7iax1U"
      },
      "source": [
        "from nltk.stem import PorterStemmer "
      ],
      "execution_count": null,
      "outputs": []
    },
    {
      "cell_type": "code",
      "metadata": {
        "id": "TDakPMu_bVLa"
      },
      "source": [
        "stemer = nltk.PorterStemmer()\n",
        "def stemming_on_text(data):\n",
        "    text = [stemer.stem(word) for word in data]\n",
        "    return data\n",
        "\n",
        "data['text']= data['text'].apply(lambda x: stemming_on_text(x))"
      ],
      "execution_count": null,
      "outputs": []
    },
    {
      "cell_type": "code",
      "metadata": {
        "id": "J7IjLbpSb9zH",
        "colab": {
          "base_uri": "https://localhost:8080/",
          "height": 194
        },
        "outputId": "4102c828-1df4-4e41-fa63-9106751e3a1e"
      },
      "source": [
        "data.head()"
      ],
      "execution_count": null,
      "outputs": [
        {
          "output_type": "execute_result",
          "data": {
            "text/html": [
              "<div>\n",
              "<style scoped>\n",
              "    .dataframe tbody tr th:only-of-type {\n",
              "        vertical-align: middle;\n",
              "    }\n",
              "\n",
              "    .dataframe tbody tr th {\n",
              "        vertical-align: top;\n",
              "    }\n",
              "\n",
              "    .dataframe thead th {\n",
              "        text-align: right;\n",
              "    }\n",
              "</style>\n",
              "<table border=\"1\" class=\"dataframe\">\n",
              "  <thead>\n",
              "    <tr style=\"text-align: right;\">\n",
              "      <th></th>\n",
              "      <th>label</th>\n",
              "      <th>text</th>\n",
              "    </tr>\n",
              "  </thead>\n",
              "  <tbody>\n",
              "    <tr>\n",
              "      <th>105391</th>\n",
              "      <td>1</td>\n",
              "      <td>[seriously, thought, people, died, already]</td>\n",
              "    </tr>\n",
              "    <tr>\n",
              "      <th>100158</th>\n",
              "      <td>1</td>\n",
              "      <td>[brasilllll, pohaaaaa]</td>\n",
              "    </tr>\n",
              "    <tr>\n",
              "      <th>97808</th>\n",
              "      <td>1</td>\n",
              "      <td>[fabio, einstein, needs, bring, danica, mckell...</td>\n",
              "    </tr>\n",
              "    <tr>\n",
              "      <th>30449</th>\n",
              "      <td>1</td>\n",
              "      <td>[fadedmoon, yea, knew, it]</td>\n",
              "    </tr>\n",
              "    <tr>\n",
              "      <th>156889</th>\n",
              "      <td>1</td>\n",
              "      <td>[mileena, mortal, combat, kitana, jade, one, t...</td>\n",
              "    </tr>\n",
              "  </tbody>\n",
              "</table>\n",
              "</div>"
            ],
            "text/plain": [
              "        label                                               text\n",
              "105391      1        [seriously, thought, people, died, already]\n",
              "100158      1                             [brasilllll, pohaaaaa]\n",
              "97808       1  [fabio, einstein, needs, bring, danica, mckell...\n",
              "30449       1                         [fadedmoon, yea, knew, it]\n",
              "156889      1  [mileena, mortal, combat, kitana, jade, one, t..."
            ]
          },
          "metadata": {
            "tags": []
          },
          "execution_count": 157
        }
      ]
    },
    {
      "cell_type": "code",
      "metadata": {
        "id": "jX3YJ4J8hmlD"
      },
      "source": [
        "nltk.download('wordnet')"
      ],
      "execution_count": null,
      "outputs": []
    },
    {
      "cell_type": "code",
      "metadata": {
        "id": "gOPEm6lTcLKO"
      },
      "source": [
        "lm = nltk.WordNetLemmatizer()\n",
        "def lemmatizer_on_text(data):\n",
        "    text = [lm.lemmatize(word) for word in data]\n",
        "    return text\n",
        "\n",
        "data['text'] = data['text'].apply(lambda x: lemmatizer_on_text(x))"
      ],
      "execution_count": null,
      "outputs": []
    },
    {
      "cell_type": "code",
      "metadata": {
        "id": "n4SMY5gUhuMe",
        "colab": {
          "base_uri": "https://localhost:8080/",
          "height": 194
        },
        "outputId": "57103cf7-31c1-4d36-b91f-bb3555380d39"
      },
      "source": [
        "data.head()"
      ],
      "execution_count": null,
      "outputs": [
        {
          "output_type": "execute_result",
          "data": {
            "text/html": [
              "<div>\n",
              "<style scoped>\n",
              "    .dataframe tbody tr th:only-of-type {\n",
              "        vertical-align: middle;\n",
              "    }\n",
              "\n",
              "    .dataframe tbody tr th {\n",
              "        vertical-align: top;\n",
              "    }\n",
              "\n",
              "    .dataframe thead th {\n",
              "        text-align: right;\n",
              "    }\n",
              "</style>\n",
              "<table border=\"1\" class=\"dataframe\">\n",
              "  <thead>\n",
              "    <tr style=\"text-align: right;\">\n",
              "      <th></th>\n",
              "      <th>label</th>\n",
              "      <th>text</th>\n",
              "    </tr>\n",
              "  </thead>\n",
              "  <tbody>\n",
              "    <tr>\n",
              "      <th>105391</th>\n",
              "      <td>1</td>\n",
              "      <td>[seriously, thought, people, died, already]</td>\n",
              "    </tr>\n",
              "    <tr>\n",
              "      <th>100158</th>\n",
              "      <td>1</td>\n",
              "      <td>[brasilllll, pohaaaaa]</td>\n",
              "    </tr>\n",
              "    <tr>\n",
              "      <th>97808</th>\n",
              "      <td>1</td>\n",
              "      <td>[fabio, einstein, need, bring, danica, mckella...</td>\n",
              "    </tr>\n",
              "    <tr>\n",
              "      <th>30449</th>\n",
              "      <td>1</td>\n",
              "      <td>[fadedmoon, yea, knew, it]</td>\n",
              "    </tr>\n",
              "    <tr>\n",
              "      <th>156889</th>\n",
              "      <td>1</td>\n",
              "      <td>[mileena, mortal, combat, kitana, jade, one, t...</td>\n",
              "    </tr>\n",
              "  </tbody>\n",
              "</table>\n",
              "</div>"
            ],
            "text/plain": [
              "        label                                               text\n",
              "105391      1        [seriously, thought, people, died, already]\n",
              "100158      1                             [brasilllll, pohaaaaa]\n",
              "97808       1  [fabio, einstein, need, bring, danica, mckella...\n",
              "30449       1                         [fadedmoon, yea, knew, it]\n",
              "156889      1  [mileena, mortal, combat, kitana, jade, one, t..."
            ]
          },
          "metadata": {
            "tags": []
          },
          "execution_count": 160
        }
      ]
    },
    {
      "cell_type": "code",
      "metadata": {
        "id": "yF66UFvrh9gQ",
        "colab": {
          "base_uri": "https://localhost:8080/"
        },
        "outputId": "3e3822e8-475b-4a57-ae72-786b86ed324b"
      },
      "source": [
        "input=data['text']\n",
        "output=data['label']\n",
        "\n",
        "input\n"
      ],
      "execution_count": null,
      "outputs": [
        {
          "output_type": "execute_result",
          "data": {
            "text/plain": [
              "105391          [seriously, thought, people, died, already]\n",
              "100158                               [brasilllll, pohaaaaa]\n",
              "97808     [fabio, einstein, need, bring, danica, mckella...\n",
              "30449                            [fadedmoon, yea, knew, it]\n",
              "156889    [mileena, mortal, combat, kitana, jade, one, t...\n",
              "                                ...                        \n",
              "105121                                         [tommy, man]\n",
              "142737                                          [del, alma]\n",
              "107878    [im, vegan, left, every, nonplant, based, item...\n",
              "64505     [hmmmm, must, like, reading, stuff, although, ...\n",
              "59609     [yup, xp, home, edition, zonealarm, pro, type,...\n",
              "Name: text, Length: 160000, dtype: object"
            ]
          },
          "metadata": {
            "tags": []
          },
          "execution_count": 161
        }
      ]
    },
    {
      "cell_type": "code",
      "metadata": {
        "id": "VIw5lLqacBIt"
      },
      "source": [
        "from tensorflow.keras.layers import LSTM, Activation, Dense, Dropout, Input, Embedding\n",
        "from tensorflow.keras.models import Model\n",
        "from tensorflow.keras.optimizers import RMSprop\n",
        "from tensorflow.keras.preprocessing.text import Tokenizer\n",
        "from tensorflow.keras.preprocessing import sequence\n",
        "%matplotlib inline\n",
        "\n",
        "import warnings\n",
        "warnings.filterwarnings(\"ignore\")"
      ],
      "execution_count": null,
      "outputs": []
    },
    {
      "cell_type": "code",
      "metadata": {
        "id": "xDIDS8idtSr1"
      },
      "source": [
        "max_len = 1000\n",
        "tok = Tokenizer(num_words=2000)\n",
        "tok.fit_on_texts(input)\n",
        "sequences = tok.texts_to_sequences(input)\n",
        "sequences_matrix = sequence.pad_sequences(sequences,maxlen=max_len)"
      ],
      "execution_count": null,
      "outputs": []
    },
    {
      "cell_type": "code",
      "metadata": {
        "id": "8uHAfy1kXB_k"
      },
      "source": [
        "import pickle\n",
        "with open('/content/drive/Shareddrives/Hackathon/AMOC/tok.pickle', mode='wb') as handle:\n",
        "    pickle.dump(tok, handle, protocol = pickle.HIGHEST_PROTOCOL)\n",
        "\n",
        "with open('/content/drive/Shareddrives/Hackathon/AMOC/tok.pickle',mode='rb') as handle:\n",
        "    tok = pickle.load(handle)"
      ],
      "execution_count": null,
      "outputs": []
    },
    {
      "cell_type": "code",
      "metadata": {
        "colab": {
          "base_uri": "https://localhost:8080/"
        },
        "id": "KqN-29TE1LBZ",
        "outputId": "17663080-2ac4-441c-bc7c-d14f98dd4aaf"
      },
      "source": [
        "sequences_matrix.shape"
      ],
      "execution_count": null,
      "outputs": [
        {
          "output_type": "execute_result",
          "data": {
            "text/plain": [
              "(160000, 1000)"
            ]
          },
          "metadata": {
            "tags": []
          },
          "execution_count": 165
        }
      ]
    },
    {
      "cell_type": "code",
      "metadata": {
        "id": "bA9gppdGcXTC"
      },
      "source": [
        "from sklearn.model_selection import train_test_split\n",
        "X_train, X_test, Y_train, Y_test = train_test_split(sequences_matrix, output, test_size=0.3, random_state=2)"
      ],
      "execution_count": null,
      "outputs": []
    },
    {
      "cell_type": "code",
      "metadata": {
        "colab": {
          "base_uri": "https://localhost:8080/"
        },
        "id": "8434dq-IeZzI",
        "outputId": "53567955-8e43-4f1e-b3be-9291cf609587"
      },
      "source": [
        "X_test"
      ],
      "execution_count": null,
      "outputs": [
        {
          "output_type": "execute_result",
          "data": {
            "text/plain": [
              "array([[   0,    0,    0, ..., 1341,  972,  775],\n",
              "       [   0,    0,    0, ...,    0,    0, 1991],\n",
              "       [   0,    0,    0, ...,    0,    0,    0],\n",
              "       ...,\n",
              "       [   0,    0,    0, ...,    0,    0,   36],\n",
              "       [   0,    0,    0, ...,  311,  337,  832],\n",
              "       [   0,    0,    0, ...,  181,  256,  701]], dtype=int32)"
            ]
          },
          "metadata": {
            "tags": []
          },
          "execution_count": 167
        }
      ]
    },
    {
      "cell_type": "code",
      "metadata": {
        "id": "ymQWJitgcg7J"
      },
      "source": [
        "def tensorflow_based_model():\n",
        "    inputs = Input(name='inputs',shape=[max_len])\n",
        "    layer = Embedding(2000,50,input_length=max_len)(inputs) \n",
        "    layer = LSTM(64)(layer)\n",
        "    layer = Dense(256,name='FC1')(layer) \n",
        "    layer = Activation('relu')(layer) \n",
        "    layer = Dropout(0.5)(layer) \n",
        "    layer = Dense(1,name='out_layer')(layer) \n",
        "    layer = Activation('sigmoid')(layer) \n",
        "    model = Model(inputs=inputs,outputs=layer) \n",
        "    return model "
      ],
      "execution_count": null,
      "outputs": []
    },
    {
      "cell_type": "code",
      "metadata": {
        "id": "htbbHppUc34L"
      },
      "source": [
        "model = tensorflow_based_model() \n",
        "model.compile(loss='binary_crossentropy',optimizer=RMSprop(),metrics=['accuracy'])  "
      ],
      "execution_count": null,
      "outputs": []
    },
    {
      "cell_type": "code",
      "metadata": {
        "id": "bf-6TwyEc623",
        "colab": {
          "base_uri": "https://localhost:8080/"
        },
        "outputId": "ef9793c1-1754-4420-ac95-03d1f8776759"
      },
      "source": [
        "history=model.fit(X_train,Y_train,batch_size=80,epochs=6, validation_split=0.1)\n",
        "print('Training finished !!')\n",
        "\n"
      ],
      "execution_count": null,
      "outputs": [
        {
          "output_type": "stream",
          "text": [
            "Epoch 1/6\n",
            "1260/1260 [==============================] - 1095s 867ms/step - loss: 0.3189 - accuracy: 0.8737 - val_loss: 0.3420 - val_accuracy: 0.8763\n",
            "Epoch 2/6\n",
            "1260/1260 [==============================] - 1085s 861ms/step - loss: 0.2412 - accuracy: 0.9129 - val_loss: 0.2119 - val_accuracy: 0.9196\n",
            "Epoch 3/6\n",
            "1260/1260 [==============================] - 1092s 867ms/step - loss: 0.2082 - accuracy: 0.9242 - val_loss: 0.2064 - val_accuracy: 0.9219\n",
            "Epoch 4/6\n",
            "1260/1260 [==============================] - 1091s 866ms/step - loss: 0.2069 - accuracy: 0.9223 - val_loss: 0.2063 - val_accuracy: 0.9224\n",
            "Epoch 5/6\n",
            "1260/1260 [==============================] - 1092s 867ms/step - loss: 0.1995 - accuracy: 0.9263 - val_loss: 0.2058 - val_accuracy: 0.9239\n",
            "Epoch 6/6\n",
            "1260/1260 [==============================] - 1089s 865ms/step - loss: 0.1924 - accuracy: 0.9285 - val_loss: 0.2132 - val_accuracy: 0.9232\n",
            "Training finished !!\n"
          ],
          "name": "stdout"
        }
      ]
    },
    {
      "cell_type": "code",
      "metadata": {
        "id": "Hl9CLhesd0Kw"
      },
      "source": [
        "model.save('sentiment_analyzers.h5')"
      ],
      "execution_count": null,
      "outputs": []
    },
    {
      "cell_type": "code",
      "metadata": {
        "id": "v-AK7xexc9D6",
        "colab": {
          "base_uri": "https://localhost:8080/"
        },
        "outputId": "8a36a05f-3100-4bc0-db10-e0e5fbd288fe"
      },
      "source": [
        "accr1 = model.evaluate(X_test,Y_test) #we are starting to test the model here"
      ],
      "execution_count": null,
      "outputs": [
        {
          "output_type": "stream",
          "text": [
            "1500/1500 [==============================] - 185s 123ms/step - loss: 0.2166 - accuracy: 0.9227\n"
          ],
          "name": "stdout"
        }
      ]
    },
    {
      "cell_type": "code",
      "metadata": {
        "id": "fJWuTYoObs2G"
      },
      "source": [
        "y_pred=model.predict(X_test)"
      ],
      "execution_count": null,
      "outputs": []
    },
    {
      "cell_type": "code",
      "metadata": {
        "id": "gICZxBHedAfB"
      },
      "source": [
        "y_pred = model.predict(X_test) #getting predictions on the trained model\n",
        "y_pred = (y_pred > 0.5) "
      ],
      "execution_count": null,
      "outputs": []
    },
    {
      "cell_type": "code",
      "metadata": {
        "id": "pVTRGUkjFJ5t",
        "colab": {
          "base_uri": "https://localhost:8080/"
        },
        "outputId": "62c56c40-adcc-4482-c403-a3739c9dac7b"
      },
      "source": [
        "y_pred"
      ],
      "execution_count": null,
      "outputs": [
        {
          "output_type": "execute_result",
          "data": {
            "text/plain": [
              "array([[ True],\n",
              "       [False],\n",
              "       [ True],\n",
              "       ...,\n",
              "       [ True],\n",
              "       [ True],\n",
              "       [ True]])"
            ]
          },
          "metadata": {
            "tags": []
          },
          "execution_count": 182
        }
      ]
    },
    {
      "cell_type": "code",
      "metadata": {
        "id": "yqIiAtoxk90m"
      },
      "source": [
        "nltk.download('punkt')\n",
        "def cleaning_message(sample_message):\n",
        "  sample_message=sample_message.str.lower()\n",
        "  sample_message=sample_message.apply(lambda text: cleaning_stopwords(text))\n",
        "  sample_message=sample_message.apply(lambda x: cleaning_punctuations(x))\n",
        "  sample_message=sample_message.apply(lambda x: cleaning_URLs(x))\n",
        "  sample_message=sample_message.apply(lambda x: cleaning_numbers(x))\n",
        "  sample_message=sample_message.apply(tokenizer.tokenize)\n",
        "  sample_message=sample_message.apply(lambda x: stemming_on_text(x))\n",
        "  sample_message=sample_message.apply(lambda x: lemmatizer_on_text(x) )\n",
        "  return sample_message"
      ],
      "execution_count": null,
      "outputs": []
    },
    {
      "cell_type": "code",
      "metadata": {
        "id": "9TDhc0eIuBLM"
      },
      "source": [
        "import numpy as np\n",
        "import tensorflow as tf\n",
        "from tensorflow import keras\n",
        "\n",
        "MY_model = keras.models.load_model('/content/drive/Shareddrives/Hackathon/AMOC/sentiment_analyzers.h5')"
      ],
      "execution_count": null,
      "outputs": []
    },
    {
      "cell_type": "code",
      "metadata": {
        "id": "nxaOkeJhLv5l"
      },
      "source": [
        "EMO_UNICODE = {\n",
        "    u':angry:': u'\\U0001F620', # angry\n",
        "    u':very angry: ': u'\\U0001F47F', #angry face with horns\n",
        "    u':suprised: ': u'\\U0001F627',\n",
        "    u':yellow love: ': u'\\U0001F49B', # yellow_heart\n",
        "    u':worried:': u'\\U0001F61F',\n",
        "    u':winking face:': u'\\U0001F609',\n",
        "    u':shocked:': u'\\U0001F640', #weary cat face\n",
        "    u':waving hand:': u'\\U0001F44B',#waving hand\n",
        "    u':warning:': u'\\U000026A0',\n",
        "    u':unamused face:': u'\\U0001F612',\n",
        "    u':tired face:': u'\\U0001F62B',\n",
        "    u':good:': u'\\U0001F44D',#thumbs_up\n",
        "    u':upset:': u'\\U0001F44E',\n",
        "    u':smiling cat face with heart eyes:': u'\\U0001F63B',\n",
        "    u':smiling cat face with open mouth:': u'\\U0001F63A',\n",
        "    u':smiling face:': u'\\U0000263A',\n",
        "    u':smiling face with halo:': u'\\U0001F607',\n",
        "    u':smiling face with heart-eyes:': u'\\U0001F60D',\n",
        "    u':smiling face with horns:': u'\\U0001F608',\n",
        "    u':smiling face with open_mouth:': u'\\U0001F603',\n",
        "    u':smiling face with open mouth closed eyes:': u'\\U0001F606',\n",
        "    u':smiling face with open mouth & cold sweat:': u'\\U0001F605',\n",
        "    u':smiling face with open mouth & smiling eyes:': u'\\U0001F604',\n",
        "    u':smiling face with smiling eyes:': u'\\U0001F60A',\n",
        "    u':pig face:': u'\\U0001F437',\n",
        "    u':person gesturing NO:': u'\\U0001F645',\n",
        "    u':person gesturing OK:': u'\\U0001F646',\n",
        "    u':person frowning:': u'\\U0001F64D',\n",
        "    u':face blowing a kiss:': u'\\U0001F618',\n",
        "    u':face savouring delicious_food:': u'\\U0001F60B',\n",
        "    u':face screaming in fear:': u'\\U0001F631',\n",
        "    u':face with cold sweat:': u'\\U0001F613',\n",
        "    u':face with head bandage:': u'\\U0001F915',\n",
        "    u':face with medical mask:': u'\\U0001F637',\n",
        "    u':face with open mouth:': u'\\U0001F62E',\n",
        "    u':face with open mouth & cold sweat:': u'\\U0001F630',\n",
        "    u':face with rolling eyes:': u'\\U0001F644',\n",
        "    u':face with steam from nose:': u'\\U0001F624',\n",
        "    u':face with stuck out tongue:': u'\\U0001F61B',\n",
        "    u':face with stuck out tongue & closed eyes:': u'\\U0001F61D',\n",
        "    u':face with stuck out tongue & winking eye:': u'\\U0001F61C',\n",
        "    u':face with tears of joy:': u'\\U0001F602',\n",
        "    u':face with thermometer:': u'\\U0001F912',\n",
        "    u':face without mouth:': u'\\U0001F636',\n",
        "    u':disappointed face:': u'\\U0001F61E',\n",
        "    u':disappointed but relieved face:': u'\\U0001F625',\n",
        "    u':hopefull:': u'\\U0001F91E', # crossed fingers\n",
        "    u':confused face:': u'\\U0001F615',\n",
        "    u':appreciate:': u'\\U0001F44F', #clapping hands\n",
        "    u':blue heart:': u'\\U0001F499',\n",
        "    u':astonished face:': u'\\U0001F632',\n",
        "    \n",
        "}\n",
        "\n",
        "UNICODE_EMO = {v: k for k, v in EMO_UNICODE.items()}"
      ],
      "execution_count": null,
      "outputs": []
    },
    {
      "cell_type": "code",
      "metadata": {
        "id": "vWMny98ALvyx"
      },
      "source": [
        "def convert_emojis(text):\n",
        "    for emot in UNICODE_EMO:\n",
        "        text = re.sub(r'('+emot+')', \" \".join(UNICODE_EMO[emot].replace(\",\",\" \").replace(\":\",\" \").split()), text)\n",
        "    return text"
      ],
      "execution_count": null,
      "outputs": []
    },
    {
      "cell_type": "code",
      "metadata": {
        "id": "7rkUBwK4Lvrg"
      },
      "source": [
        "def remove_emoji(text):\n",
        "    emoji_pattern = re.compile(\"[\"\n",
        "                           u\"\\U0001F600-\\U0001F64F\"  # emoticons\n",
        "                           u\"\\U0001F300-\\U0001F5FF\"  # symbols & pictographs\n",
        "                           u\"\\U0001F680-\\U0001F6FF\"  # transport & map symbols\n",
        "                           u\"\\U0001F1E0-\\U0001F1FF\"  # flags (iOS)\n",
        "                           u\"\\U00002702-\\U000027B0\"\n",
        "                           u\"\\U000024C2-\\U0001F251\"\n",
        "                           \"]+\", flags=re.UNICODE)\n",
        "    return emoji_pattern.sub(r'', text)\n"
      ],
      "execution_count": null,
      "outputs": []
    },
    {
      "cell_type": "code",
      "metadata": {
        "id": "9chr3qQFuB8S",
        "colab": {
          "base_uri": "https://localhost:8080/",
          "height": 35
        },
        "outputId": "f9563baa-512c-4ccc-bfeb-6a16c7cc7052"
      },
      "source": [
        "sample_message=\"This series is literally lit,i mean i was so eagerly waiting for abhilash's entry as an IAS but it was normal,as expected from TVF house,normal and pure\"\n",
        "sample_message=convert_emojis(sample_message)\n",
        "sample_message=remove_emoji(sample_message)\n",
        "sample_message"
      ],
      "execution_count": null,
      "outputs": [
        {
          "output_type": "execute_result",
          "data": {
            "application/vnd.google.colaboratory.intrinsic+json": {
              "type": "string"
            },
            "text/plain": [
              "\"This series is literally lit,i mean i was so eagerly waiting for abhilash's entry as an IAS but it was normal,as expected from TVF house,normal and pure\""
            ]
          },
          "metadata": {
            "tags": []
          },
          "execution_count": 213
        }
      ]
    },
    {
      "cell_type": "code",
      "metadata": {
        "id": "iggSAu-yuBmL",
        "colab": {
          "base_uri": "https://localhost:8080/"
        },
        "outputId": "c72b8dfc-030b-4e7c-b917-aa418d23498c"
      },
      "source": [
        "import pandas as pd\n",
        "  \n",
        "df = pd.DataFrame({\n",
        "    'text': [sample_message]\n",
        "})\n",
        "\n",
        "test = df['text']\n",
        "test"
      ],
      "execution_count": null,
      "outputs": [
        {
          "output_type": "execute_result",
          "data": {
            "text/plain": [
              "0    This series is literally lit,i mean i was so e...\n",
              "Name: text, dtype: object"
            ]
          },
          "metadata": {
            "tags": []
          },
          "execution_count": 214
        }
      ]
    },
    {
      "cell_type": "code",
      "metadata": {
        "colab": {
          "base_uri": "https://localhost:8080/",
          "height": 35
        },
        "id": "6ccJOqInBHds",
        "outputId": "650d280b-f577-4a94-e32e-052bef008cbb"
      },
      "source": [
        "test=cleaning_message(test)\n",
        "sample_message"
      ],
      "execution_count": null,
      "outputs": [
        {
          "output_type": "execute_result",
          "data": {
            "application/vnd.google.colaboratory.intrinsic+json": {
              "type": "string"
            },
            "text/plain": [
              "\"This series is literally lit,i mean i was so eagerly waiting for abhilash's entry as an IAS but it was normal,as expected from TVF house,normal and pure\""
            ]
          },
          "metadata": {
            "tags": []
          },
          "execution_count": 215
        }
      ]
    },
    {
      "cell_type": "code",
      "metadata": {
        "id": "EB6hUCZqzaRR"
      },
      "source": [
        "tok.fit_on_texts(test)\n",
        "sequences = tok.texts_to_sequences(test)\n",
        "sequences_matrix = sequence.pad_sequences(sequences,maxlen=max_len)"
      ],
      "execution_count": null,
      "outputs": []
    },
    {
      "cell_type": "code",
      "metadata": {
        "id": "BGlM8TEyDRgd"
      },
      "source": [
        "y_bar=MY_model.predict(sequences_matrix)\n",
        "y_bar = (y_bar > 0.5) "
      ],
      "execution_count": null,
      "outputs": []
    },
    {
      "cell_type": "code",
      "metadata": {
        "colab": {
          "base_uri": "https://localhost:8080/"
        },
        "id": "hePTxc4IDiYC",
        "outputId": "4e26c89a-fc81-4fed-e94f-24c51d2c16d8"
      },
      "source": [
        "y_bar"
      ],
      "execution_count": null,
      "outputs": [
        {
          "output_type": "execute_result",
          "data": {
            "text/plain": [
              "array([[ True]])"
            ]
          },
          "metadata": {
            "tags": []
          },
          "execution_count": 218
        }
      ]
    },
    {
      "cell_type": "code",
      "metadata": {
        "id": "bRItID-wDjoL"
      },
      "source": [
        ""
      ],
      "execution_count": null,
      "outputs": []
    }
  ]
}